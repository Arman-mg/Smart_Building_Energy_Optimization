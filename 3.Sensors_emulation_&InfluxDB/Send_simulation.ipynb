{
 "cells": [
  {
   "cell_type": "code",
   "execution_count": null,
   "metadata": {},
   "outputs": [],
   "source": [
    "import gym\n",
    "import json\n",
    "import time\n",
    "import pandas as pd\n",
    "from datetime import timedelta\n",
    "from utils import make_dict\n",
    "import Publisher as pub"
   ]
  },
  {
   "cell_type": "code",
   "execution_count": null,
   "metadata": {},
   "outputs": [],
   "source": [
    "def main():\n",
    "    # Initialize the simulation environment\n",
    "    env = gym.make('Lab-Building-default-v0')\n",
    "    publisher = pub.MyPublisher('Lab-Building')\n",
    "    publisher.start()\n",
    "\n",
    "    # Define observation variables\n",
    "    obs_name = [\n",
    "        \"T_ext\", \"Wind_Speed\", \"Wind_Direction\", \"Reception\",\n",
    "        \"Bathroom1\", \"Bathroom2\", \"Bathroom3\", \"Corridor\", \"Office\", \n",
    "        \"Electricity\", \"DistrictHeating\", \"DistrictCooling\", \"Bath1_shade\", \n",
    "        \"Classroom1_shade1\", \"Classroom1_shade2\", \"Bath_shade\", \"Office_shade1\", \"Office_shade2\", \n",
    "        \"Classroom2_shade1\", \"Classroom2_shade2\"\n",
    "    ]\n",
    "    \n",
    "    tot_days = 14  # Total number of days/episodes\n",
    "    n_step_hour = 4  # Timesteps in one hour\n",
    "    n_step = n_step_hour * 24\n",
    "    time_step, observations, is_terminal, _ = env.reset()\n",
    "    start_time = pd.to_datetime(f\"{env.start_year}-{env.start_mon}-{env.start_day}\")\n",
    "    cur_time = start_first = start_time\n",
    "    obs_dict = make_dict(obs_name, observations)\n",
    "\n",
    "    # Simulation loop\n",
    "    for i_episode in range(tot_days):\n",
    "        for t in range(n_step):\n",
    "            input_actions = []  # Define actions to take (empty list for now)\n",
    "            time_step, observations, is_terminal, _ = env.step(input_actions)\n",
    "            cur_time = start_time + timedelta(seconds=time_step)\n",
    "\n",
    "            # Save for record\n",
    "            obs_dict = make_context(obs_name, observations)\n",
    "            print(obs_dict)  # Printing observations for debugging\n",
    "\n",
    "            # Send data\n",
    "            send_data(publisher, obs_dict, cur_time)\n",
    "            time.sleep(2)  # Sleep to simulate time delay\n",
    "\n",
    "    env.end_env()"
   ]
  },
  {
   "cell_type": "code",
   "execution_count": null,
   "metadata": {},
   "outputs": [],
   "source": [
    "def send_data(publisher, obs_dict, cur_time):\n",
    "    \"\"\"Helper function to send observation data.\"\"\"\n",
    "    for key, value in obs_dict.items():\n",
    "        payload = {\n",
    "            \"location\": \"MyBuilding\",\n",
    "            \"measurement\": \"test\",\n",
    "            \"node\": key,\n",
    "            \"time_stamp\": str(cur_time),\n",
    "            \"value\": str(value)\n",
    "        }\n",
    "        publisher.myPublish(\"ict4bd\", json.dumps(payload))\n",
    "        time.sleep(0.01)  # Small delay between sending data"
   ]
  },
  {
   "cell_type": "code",
   "execution_count": null,
   "metadata": {},
   "outputs": [],
   "source": [
    "if __name__ == '__main__':\n",
    "    main()"
   ]
  }
 ],
 "metadata": {
  "language_info": {
   "name": "python"
  }
 },
 "nbformat": 4,
 "nbformat_minor": 2
}
