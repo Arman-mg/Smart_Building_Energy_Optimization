{
 "cells": [
  {
   "cell_type": "code",
   "execution_count": null,
   "metadata": {},
   "outputs": [],
   "source": [
    "import os\n",
    "import sys\n",
    "import gym\n",
    "import json\n",
    "import time\n",
    "import pickle\n",
    "import pandas as\n",
    "import numpy as np\n",
    "from itertools import groupby\n",
    "from datetime import datetime, timedelta\n",
    "import argparse\n",
    "from sqlite3 import Timestamp\n",
    "from utils import make_dict"
   ]
  },
  {
   "cell_type": "code",
   "execution_count": null,
   "metadata": {},
   "outputs": [],
   "source": [
    "def main():\n",
    "    # Initialize the simulation environment\n",
    "    env = gym.make('Lab-Building-control-v0')\n",
    "    publisher = pub.MyPublisher('Lab-Building-control')\n",
    "    publisher.start()\n",
    "\n",
    "    # Variables configuration\n",
    "    obs_name = [\n",
    "        \"T_ext\", \"Wind_Speed\", \"Wind_Direction\", \"Reception\",\n",
    "        \"Bathroom1\", \"Bathroom2\", \"Bathroom3\", \"Corridor\", \"Office\", \n",
    "        \"Electricity\", \"DistrictHeating\", \"DistrictCooling\", \"Bath1_shade\", \n",
    "        \"Classroom1_shade1\", \"Classroom1_shade2\", \"Bath_shade\", \"Office_shade1\", \"Office_shade2\", \n",
    "        \"Classroom2_shade1\", \"Classroom2_shade2\"\n",
    "    ]\n",
    "    tot_days = 14\n",
    "    n_step_hour = 4\n",
    "    n_step = n_step_hour * 24\n",
    "\n",
    "    # Simulation loop\n",
    "    for i_episode in range(tot_days):\n",
    "        time_step, observations, is_terminal, _ = env.reset()\n",
    "        start_time = datetime(year=env.start_year, month=env.start_month, day=env.start_day)\n",
    "        cur_time = start_time\n",
    "        obs_dict = make_dict(obs_name, observations)\n",
    "        send_data(publisher, obs_dict, cur_time)\n",
    "\n",
    "        actuator = act.MyActuator('Actuator1', 'actuator')\n",
    "        actuator.run()\n",
    "\n",
    "        for t in range(n_step):\n",
    "            # Check actuator status and execute step\n",
    "            if not actuator.wait:\n",
    "                action_step = json.loads(actuator.msg.payload)\n",
    "                actuator.wait = True\n",
    "                input_actions = [float(val) for val in action_step.values()]\n",
    "                \n",
    "                if input-actions:\n",
    "                    time_step, observations, is_terminal, _ = env.step(input_actions)\n",
    "                    cur_time += timedelta(seconds=time_step)\n",
    "                    obs_dict = make_dict(obs_name, observations)\n",
    "                    send_data(publisher, obs_dict, cur_time)\n",
    "\n",
    "            time.sleep(2)  # Delay to simulate time between actions\n",
    "\n",
    "    env.end_env()"
   ]
  },
  {
   "cell_type": "code",
   "execution_count": null,
   "metadata": {},
   "outputs": [],
   "source": [
    "def send_data(publisher, obs_dict, cur_time):\n",
    "    \"\"\"Helper function to send observation data.\"\"\"\n",
    "    for key, val in obs_dict.items():\n",
    "        payload = {\n",
    "            \"location\": \"MyBuilding\",\n",
    "            \"measurement\": \"test\",\n",
    "            \"node\": key,\n",
    "            \"time_stamp\": str(cur_time),\n",
    "            \"value\": str(val)\n",
    "        }\n",
    "        publisher.myPublish(\"/ict4bd\", json.dumps(payload))\n",
    "        time.sleep(0.01)  # Small delay between sending data"
   ]
  },
  {
   "cell_type": "code",
   "execution_count": null,
   "metadata": {},
   "outputs": [],
   "source": [
    "if __name__ == '__main__':\n",
    "    main()"
   ]
  }
 ],
 "metadata": {
  "language_info": {
   "name": "python"
  }
 },
 "nbformat": 4,
 "nbformat_minor": 2
}
