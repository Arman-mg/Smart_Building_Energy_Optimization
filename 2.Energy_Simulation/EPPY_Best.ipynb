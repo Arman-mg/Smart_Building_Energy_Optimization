{
 "cells": [
  {
   "cell_type": "code",
   "execution_count": 9,
   "metadata": {},
   "outputs": [],
   "source": [
    "from eppy import modeleditor\n",
    "from eppy.modeleditor import IDF\n",
    "from besos import eppy_funcs as besos_ef\n",
    "from besos import sampling\n",
    "from besos.evaluator import EvaluatorEP\n",
    "from besos.parameters import (\n",
    "    RangeParameter, FieldSelector, FilterSelector, Parameter, expand_plist, wwr, CategoryParameter, GenericSelector\n",
    ")\n",
    "from besos.problem import EPProblem"
   ]
  },
  {
   "cell_type": "code",
   "execution_count": 10,
   "metadata": {},
   "outputs": [],
   "source": [
    "# Define the location of EnergyPlus installation and input files\n",
    "energyplus_idd_path = 'C:/EnergyPlusV9-6-0/Energy+.idd'\n",
    "idf_filename = 'double_glaze.idf'\n",
    "weather_file = 'ITA_PM_Torino.AF.160595_TMYx.epw'"
   ]
  },
  {
   "cell_type": "code",
   "execution_count": 11,
   "metadata": {},
   "outputs": [],
   "source": [
    "# Load the building model using eppy functions\n",
    "building_model = besos_ef.get_building(idf_filename)\n",
    "IDF.setiddname(energyplus_idd_path)\n",
    "simulation_model = IDF(idf_filename, weather_file)"
   ]
  },
  {
   "cell_type": "code",
   "execution_count": 12,
   "metadata": {},
   "outputs": [
    {
     "name": "stdout",
     "output_type": "stream",
     "text": [
      "\n",
      "C:\\EnergyPlusV9-6-0\\energyplus.exe --weather c:\\Users\\arman\\OneDrive\\Desktop\\ICT_for_Building_Design_Team_4\\2.Energy_Simulation\\ITA_PM_Torino.AF.160595_TMYx.epw --output-directory c:\\Users\\arman\\OneDrive\\Desktop\\ICT_for_Building_Design_Team_4\\2.Energy_Simulation --idd C:\\EnergyPlusV9-6-0\\Energy+.idd --readvars c:\\Users\\arman\\OneDrive\\Desktop\\ICT_for_Building_Design_Team_4\\2.Energy_Simulation\\double_glaze_f470cf.idf\n",
      "\n"
     ]
    }
   ],
   "source": [
    "# Execute the EnergyPlus simulation\n",
    "simulation_model.run(readvars=True)"
   ]
  }
 ],
 "metadata": {
  "kernelspec": {
   "display_name": "Python 3",
   "language": "python",
   "name": "python3"
  },
  "language_info": {
   "codemirror_mode": {
    "name": "ipython",
    "version": 3
   },
   "file_extension": ".py",
   "mimetype": "text/x-python",
   "name": "python",
   "nbconvert_exporter": "python",
   "pygments_lexer": "ipython3",
   "version": "3.9.13"
  }
 },
 "nbformat": 4,
 "nbformat_minor": 2
}
